{
  "nbformat": 4,
  "nbformat_minor": 0,
  "metadata": {
    "colab": {
      "name": "15_nb_sentiment140_synth_test.ipynb",
      "provenance": [],
      "collapsed_sections": []
    },
    "kernelspec": {
      "name": "python3",
      "display_name": "Python 3"
    },
    "language_info": {
      "name": "python"
    }
  },
  "cells": [
    {
      "cell_type": "code",
      "execution_count": 1,
      "metadata": {
        "colab": {
          "base_uri": "https://localhost:8080/"
        },
        "id": "ZqIvbRu_B4-O",
        "outputId": "8220f7c9-97e4-4a02-eaba-fba74b457b99"
      },
      "outputs": [
        {
          "output_type": "stream",
          "name": "stdout",
          "text": [
            "[nltk_data] Downloading package stopwords to /root/nltk_data...\n",
            "[nltk_data]   Unzipping corpora/stopwords.zip.\n"
          ]
        },
        {
          "output_type": "execute_result",
          "data": {
            "text/plain": [
              "True"
            ]
          },
          "metadata": {},
          "execution_count": 1
        }
      ],
      "source": [
        "from IPython.core.interactiveshell import InteractiveShell\n",
        "\n",
        "InteractiveShell.ast_node_interactivity = \"all\"\n",
        "\n",
        "# Importing all required libraries\n",
        "import pandas as pd\n",
        "import numpy as np\n",
        "import pickle\n",
        "from typing import List\n",
        "import random\n",
        "import io\n",
        "from statistics import mean\n",
        "\n",
        "from sklearn.model_selection import (\n",
        "    train_test_split,\n",
        "    KFold,\n",
        "    cross_val_score,\n",
        "    GridSearchCV,\n",
        ")\n",
        "from sklearn.feature_extraction import text\n",
        "from sklearn.feature_extraction.text import TfidfVectorizer\n",
        "from sklearn.naive_bayes import MultinomialNB\n",
        "from sklearn.metrics import (\n",
        "    classification_report,\n",
        "    accuracy_score,\n",
        "    precision_score,\n",
        "    recall_score,\n",
        ")\n",
        "from sklearn.pipeline import Pipeline\n",
        "\n",
        "import nltk\n",
        "from nltk.tokenize import word_tokenize\n",
        "from nltk.tokenize import RegexpTokenizer\n",
        "from nltk.corpus import stopwords\n",
        "\n",
        "# Fetching stopwords\n",
        "nltk.download(\"stopwords\")\n"
      ]
    },
    {
      "cell_type": "code",
      "source": [
        "\n",
        "# Reading in data\n",
        "# df = pd.read_csv(io.StringIO(uploaded[\"CLEANED_FOR_REAL.csv\"].decode(\"latin-1\")))\n",
        "# df = pd.read_csv(\"/content/CLEANED_FOR_REAL.csv\", encoding=\"latin-1\")\n",
        "df = pd.read_csv(\"/content/Synthetic_from_NB.csv\", encoding=\"latin-1\")\n",
        "df.columns=['label','text']\n",
        "df.head()\n"
      ],
      "metadata": {
        "colab": {
          "base_uri": "https://localhost:8080/",
          "height": 204
        },
        "id": "cH54M7kGCDKI",
        "outputId": "7afda9cb-55eb-400a-d029-209beb7e9a4b"
      },
      "execution_count": 41,
      "outputs": [
        {
          "output_type": "execute_result",
          "data": {
            "text/html": [
              "<div>\n",
              "<style scoped>\n",
              "    .dataframe tbody tr th:only-of-type {\n",
              "        vertical-align: middle;\n",
              "    }\n",
              "\n",
              "    .dataframe tbody tr th {\n",
              "        vertical-align: top;\n",
              "    }\n",
              "\n",
              "    .dataframe thead th {\n",
              "        text-align: right;\n",
              "    }\n",
              "</style>\n",
              "<table border=\"1\" class=\"dataframe\">\n",
              "  <thead>\n",
              "    <tr style=\"text-align: right;\">\n",
              "      <th></th>\n",
              "      <th>label</th>\n",
              "      <th>text</th>\n",
              "    </tr>\n",
              "  </thead>\n",
              "  <tbody>\n",
              "    <tr>\n",
              "      <th>0</th>\n",
              "      <td>1</td>\n",
              "      <td>seven hours one get julyyyyy exitedd breast la...</td>\n",
              "    </tr>\n",
              "    <tr>\n",
              "      <th>1</th>\n",
              "      <td>1</td>\n",
              "      <td>higher mine christopher ugghhh fishing otherwi...</td>\n",
              "    </tr>\n",
              "    <tr>\n",
              "      <th>2</th>\n",
              "      <td>1</td>\n",
              "      <td>havegood night dock meetings scores slid canwa...</td>\n",
              "    </tr>\n",
              "    <tr>\n",
              "      <th>3</th>\n",
              "      <td>1</td>\n",
              "      <td>notts hadheadache days today hope whoop whoop ...</td>\n",
              "    </tr>\n",
              "    <tr>\n",
              "      <th>4</th>\n",
              "      <td>0</td>\n",
              "      <td>test thank wheres herecome sometime soon world...</td>\n",
              "    </tr>\n",
              "  </tbody>\n",
              "</table>\n",
              "</div>"
            ],
            "text/plain": [
              "   label                                               text\n",
              "0      1  seven hours one get julyyyyy exitedd breast la...\n",
              "1      1  higher mine christopher ugghhh fishing otherwi...\n",
              "2      1  havegood night dock meetings scores slid canwa...\n",
              "3      1  notts hadheadache days today hope whoop whoop ...\n",
              "4      0  test thank wheres herecome sometime soon world..."
            ]
          },
          "metadata": {},
          "execution_count": 41
        }
      ]
    },
    {
      "cell_type": "code",
      "source": [
        "\n",
        "# Checking attributes in the dataset\n",
        "df.info()"
      ],
      "metadata": {
        "colab": {
          "base_uri": "https://localhost:8080/"
        },
        "id": "K0GWikAaCc3y",
        "outputId": "c5f7af3b-29c5-41ee-e2e7-8160f572d19b"
      },
      "execution_count": 42,
      "outputs": [
        {
          "output_type": "stream",
          "name": "stdout",
          "text": [
            "<class 'pandas.core.frame.DataFrame'>\n",
            "RangeIndex: 2000 entries, 0 to 1999\n",
            "Data columns (total 2 columns):\n",
            " #   Column  Non-Null Count  Dtype \n",
            "---  ------  --------------  ----- \n",
            " 0   label   2000 non-null   int64 \n",
            " 1   text    2000 non-null   object\n",
            "dtypes: int64(1), object(1)\n",
            "memory usage: 31.4+ KB\n"
          ]
        }
      ]
    },
    {
      "cell_type": "code",
      "source": [
        "\n",
        "\n",
        "# Drop nulls as they are only 0.4%\n",
        "df.dropna(axis=0, inplace=True)\n",
        "\n",
        "# df[\"text\"] = df[\"text\"].str.lower()\n",
        "x = df[\"text\"]\n",
        "y = df[\"label\"]\n",
        "\n",
        "# Splitting into 75-25 train-test\n",
        "x_train, x_test, y_train, y_test = train_test_split(\n",
        "    x, y, test_size=0.0001, random_state=42\n",
        ")\n",
        "\n",
        "token = RegexpTokenizer(r\"[a-zA-Z0-9]+\")\n",
        "\n",
        "# Encoding as unicode as there are some special chars in tweets\n",
        "x_train = x_train.values.astype(\"U\")\n",
        "\n",
        "# Building the pipeline for NB\n",
        "classifier = Pipeline(\n",
        "    [\n",
        "        (\"tfidf\", TfidfVectorizer(tokenizer=token.tokenize)),\n",
        "        (\"clf\", MultinomialNB()),\n",
        "    ]\n",
        ")\n",
        "\n",
        "tuning_parameters = {\n",
        "    \"tfidf__ngram_range\": [(1, 1), (1, 2)],\n",
        "    \"tfidf__use_idf\": (True, False),\n",
        "    \"tfidf__smooth_idf\": (True, False),\n",
        "    \"tfidf__norm\": (\"l1\", \"l2\"),\n",
        "    \"tfidf__max_features\": (10000, 25000),\n",
        "    \"clf__alpha\": [0.1, 0.5, 1, 1.5, 2],\n",
        "}"
      ],
      "metadata": {
        "id": "YPJ7EFHaClhz"
      },
      "execution_count": 43,
      "outputs": []
    },
    {
      "cell_type": "code",
      "source": [
        "\"\"\"Using Optimal model from Grid Search\"\"\"\n",
        "vec = TfidfVectorizer(\n",
        "    ngram_range=(1, 2),\n",
        "    use_idf=False,\n",
        "    smooth_idf=True,\n",
        "    max_features=25000,\n",
        "    norm=\"l1\",\n",
        "    tokenizer=token.tokenize,\n",
        ")\n",
        "x_train_tfidf = vec.fit_transform(x_train)\n",
        "clf = MultinomialNB(alpha=0.5).fit(x_train_tfidf, y_train)\n",
        "\n",
        "x_test_tfidf = vec.transform(x_test)\n",
        "predictions = clf.predict(x_test_tfidf)\n",
        "predictions_prob = clf.predict_log_proba(x_test_tfidf)\n",
        "\n",
        "k_fold = KFold(n_splits=10, shuffle=True, random_state=42)\n",
        "x_tfidf = vec.fit_transform(x.values.astype(\"U\"))\n",
        "print(\n",
        "    \"Cross Validation score:\",\n",
        "    cross_val_score(clf, x_tfidf, y, cv=k_fold, n_jobs=-1, error_score=\"raise\"),\n",
        ")"
      ],
      "metadata": {
        "colab": {
          "base_uri": "https://localhost:8080/",
          "height": 52
        },
        "id": "iZoM69ywCrwW",
        "outputId": "9f74802f-7b48-4f9e-f6f1-1f5e24980da3"
      },
      "execution_count": 44,
      "outputs": [
        {
          "output_type": "execute_result",
          "data": {
            "application/vnd.google.colaboratory.intrinsic+json": {
              "type": "string"
            },
            "text/plain": [
              "'Using Optimal model from Grid Search'"
            ]
          },
          "metadata": {},
          "execution_count": 44
        },
        {
          "output_type": "stream",
          "name": "stdout",
          "text": [
            "Cross Validation score: [0.59  0.52  0.655 0.6   0.67  0.63  0.575 0.635 0.555 0.605]\n"
          ]
        }
      ]
    },
    {
      "cell_type": "code",
      "source": [
        "\n",
        "\n",
        "print(\"Train accuracy ={:.2f}%\".format(clf.score(x_train_tfidf, y_train) * 100))\n",
        "print(\"Test accuracy ={:.2f}%\".format(clf.score(x_test_tfidf, y_test) * 100))\n",
        "\n",
        "print(\"Precision score: \", precision_score(y_test, predictions, average=\"weighted\"))\n",
        "print(\"Recall score: \", recall_score(y_test, predictions, average=\"weighted\"))\n",
        "\n",
        "print(classification_report(y_test, predictions, digits=4))"
      ],
      "metadata": {
        "colab": {
          "base_uri": "https://localhost:8080/"
        },
        "id": "PgDKJtzICzDn",
        "outputId": "d1a17e75-e4fe-467c-c787-3e4fe22089b2"
      },
      "execution_count": 45,
      "outputs": [
        {
          "output_type": "stream",
          "name": "stdout",
          "text": [
            "Train accuracy =92.75%\n",
            "Test accuracy =100.00%\n",
            "Precision score:  1.0\n",
            "Recall score:  1.0\n",
            "              precision    recall  f1-score   support\n",
            "\n",
            "           0     1.0000    1.0000    1.0000         1\n",
            "\n",
            "    accuracy                         1.0000         1\n",
            "   macro avg     1.0000    1.0000    1.0000         1\n",
            "weighted avg     1.0000    1.0000    1.0000         1\n",
            "\n"
          ]
        }
      ]
    }
  ]
}